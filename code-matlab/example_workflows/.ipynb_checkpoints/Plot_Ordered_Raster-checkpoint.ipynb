{
 "cells": [
  {
   "cell_type": "markdown",
   "metadata": {},
   "source": [
    "# Example workflow for plotting ordered spike raster\n",
    "\n",
    "### SECTIONS\n",
    "**General Background**  \n",
    "\n",
    "**1. Loading data**  \n",
    "**2. Organizing experimental conditions**  \n",
    "**3. Spike train analyses: 1D place fields**  \n",
    "**4. Visualization**  "
   ]
  },
  {
   "cell_type": "markdown",
   "metadata": {},
   "source": [
    "### Before you begin..."
   ]
  },
  {
   "cell_type": "markdown",
   "metadata": {},
   "source": [
    "Remember, this is a visual reference guide to the example workflow MATLAB code and is not intended to be run as is. Some of the code you will see here is particular to jupyter notebook or for the purpose of better visualization.  For example, you'll see `%plot -s` in front of a figure call from time to time. This is a magic function used to set the size of the figure in jupyter notebook, *not in matlab*! For a complete tutorial, please follow along and step through the example code in `PlotOrderedRaster.m`"
   ]
  },
  {
   "cell_type": "markdown",
   "metadata": {},
   "source": [
    "### BACKGROUND"
   ]
  },
  {
   "cell_type": "markdown",
   "metadata": {},
   "source": [
    "For a primer on setting up your analysis pipeline, see lab wiki: http://ctnsrv.uwaterloo.ca/vandermeerlab/doku.php?id=analysis:nsb2015:week1\n",
    "\n",
    "The ability to visualize and manipulate spike train data in real time is an important aspect of the complex and multi-step process of analyses. Being able to examine the data \"at a glance\" can be useful in many situations (e.g., teaching, collaboration, brainstorming) while having efficient fine-tune control over the pipeline can often be the difference between a simple, clean workflow or analysis paralysis!\n",
    "\n",
    "This workflow showcases some of the core vandermeerlab codebase functions that are used to analyze hippocampal place cells tuned to a linearized position variable. For a more indepth turotial on loading and linearizing position data, see example workflow: https://github.com/vandermeerlab/vandermeerlab/blob/master/code-matlab/example_workflows/Loading_and_Linearizing_Position_Data.ipynb   \n",
    "\n",
    "Once we have all the main datatypes processed, we can visualize the different components in a myriad of ways...\n",
    "\n",
    "First, we add the necessary functions to our MATLAB path:"
   ]
  },
  {
   "cell_type": "code",
   "execution_count": 2,
   "metadata": {
    "ExecuteTime": {
     "end_time": "2017-03-03T10:26:47.908367",
     "start_time": "2017-03-03T10:26:47.754399"
    },
    "collapsed": false
   },
   "outputs": [],
   "source": [
    "warning('off','all') %only since its annoying otherwise\n",
    "\n",
    "% Specify and add path for mvdmlab codebase functions\n",
    "mvdmlab_path = '/Users/youkitanaka/Documents/Github/vandermeerlab/code-matlab/shared'; \n",
    "cd(mvdmlab_path);\n",
    "p = genpath(pwd);\n",
    "addpath(p);\n",
    "\n",
    "% Specify and add path for project functions\n",
    "proj_path = '/Users/youkitanaka/Documents/Github/vandermeerlab/code-matlab/tasks/Alyssa_Tmaze'; \n",
    "cd(proj_path);\n",
    "p = genpath(pwd);\n",
    "addpath(p);"
   ]
  },
  {
   "cell_type": "markdown",
   "metadata": {},
   "source": [
    "### Loading data"
   ]
  },
  {
   "cell_type": "markdown",
   "metadata": {},
   "source": [
    "Many times, an analysis can require you to iterate through multiple data folders. Here is an example of how you might quickly access all the data folders. For the Tmaze project, we use the function `getTmazeDataPath()` which gets the path string for all data folders:"
   ]
  },
  {
   "cell_type": "code",
   "execution_count": 3,
   "metadata": {
    "ExecuteTime": {
     "end_time": "2017-03-03T10:26:48.454864",
     "start_time": "2017-03-03T10:26:47.911396"
    },
    "collapsed": false
   },
   "outputs": [
    {
     "name": "stdout",
     "output_type": "stream",
     "text": [
      "\n",
      "fd = \n",
      "\n",
      "    '/Users/youkitanaka/Documents/data/R042/R042-2013-08-18'\n",
      "    '/Users/youkitanaka/Documents/data/R042/R042-2013-08-20'\n",
      "    '/Users/youkitanaka/Documents/data/R042/R042-2013-08-21'\n",
      "    '/Users/youkitanaka/Documents/data/R044/R044-2013-12-18'\n",
      "    '/Users/youkitanaka/Documents/data/R044/R044-2013-12-19'\n",
      "    '/Users/youkitanaka/Documents/data/R044/R044-2013-12-20'\n",
      "    '/Users/youkitanaka/Documents/data/R044/R044-2013-12-21'\n",
      "    '/Users/youkitanaka/Documents/data/R044/R044-2013-12-22'\n",
      "    '/Users/youkitanaka/Documents/data/R044/R044-2013-12-23'\n",
      "    '/Users/youkitanaka/Documents/data/R050/R050-2014-03-29'\n",
      "    '/Users/youkitanaka/Documents/data/R050/R050-2014-03-30'\n",
      "    '/Users/youkitanaka/Documents/data/R050/R050-2014-03-31'\n",
      "    '/Users/youkitanaka/Documents/data/R050/R050-2014-04-01'\n",
      "    '/Users/youkitanaka/Documents/data/R050/R050-2014-04-02'\n",
      "    '/Users/youkitanaka/Documents/data/R050/R050-2014-04-03'\n",
      "    '/Users/youkitanaka/Documents/data/R064/R064-2015-04-18'\n",
      "    '/Users/youkitanaka/Documents/data/R064/R064-2015-04-19'\n",
      "    '/Users/youkitanaka/Documents/data/R064/R064-2015-04-20'\n",
      "    '/Users/youkitanaka/Documents/data/R064/R064-2015-04-21'\n",
      "    '/Users/youkitanaka/Documents/data/R064/R064-2015-04-22'\n",
      "    '/Users/youkitanaka/Documents/data/R064/R064-2015-04-23'\n",
      "\n"
     ]
    }
   ],
   "source": [
    "data_path = '/Users/youkitanaka/Documents/data/'; %replace this with path for data folder\n",
    "\n",
    "fd_cfg = []; \n",
    "fd_cfg.userpath = data_path; % this lets you specify your data directory, otherwise defaults based on system\n",
    "fd = getTmazeDataPath(fd_cfg)"
   ]
  },
  {
   "cell_type": "markdown",
   "metadata": {},
   "source": [
    "The output is a cell array of strings containing the path. You can iterate over the cell array to access the contents of these folders.\n",
    "\n",
    "For now, we'll access the last of these data folders and load our key datatypes:"
   ]
  },
  {
   "cell_type": "code",
   "execution_count": 4,
   "metadata": {
    "ExecuteTime": {
     "end_time": "2017-03-03T10:26:53.914488",
     "start_time": "2017-03-03T10:26:48.457036"
    },
    "collapsed": false
   },
   "outputs": [
    {
     "name": "stdout",
     "output_type": "stream",
     "text": [
      "LoadSpikes: Loading 91 files...\n",
      "\n",
      "S = \n",
      "\n",
      "     type: 'ts'\n",
      "        t: {1x91 cell}\n",
      "    label: {1x91 cell}\n",
      "      cfg: [1x1 struct]\n",
      "      usr: [1x1 struct]\n",
      "\n",
      "LoadPos.m: 100.00% of samples tracked.\n",
      "\n",
      "pos = \n",
      "\n",
      "     type: 'tsd'\n",
      "    units: 'px'\n",
      "     tvec: [1x144583 double]\n",
      "     data: [2x144583 double]\n",
      "    label: {'x'  'y'}\n",
      "      cfg: [1x1 struct]\n",
      "\n",
      "LoadCSC: Loading 1 file(s)...\n",
      "LoadCSC: R064-2015-04-23-CSC07a.ncs 0/18848 bad blocks found (0.00%).\n",
      "\n",
      "csc = \n",
      "\n",
      "     type: 'tsd'\n",
      "    units: 'V'\n",
      "     tvec: [9650176x1 double]\n",
      "     data: [1x9650176 double]\n",
      "    label: {'R064-2015-04-23-CSC07a.ncs'}\n",
      "      cfg: [1x1 struct]\n",
      "\n"
     ]
    }
   ],
   "source": [
    "cd(fd{end});\n",
    "\n",
    "LoadExpKeys;\n",
    "LoadMetadata;\n",
    "\n",
    "cfg = [];\n",
    "S = LoadSpikes(cfg)\n",
    "\n",
    "cfg = [];\n",
    "pos = LoadPos(cfg) \n",
    "\n",
    "cfg = []; \n",
    "cfg.fc = ExpKeys.goodSWR(1);\n",
    "csc = LoadCSC(cfg)"
   ]
  },
  {
   "cell_type": "markdown",
   "metadata": {},
   "source": [
    "For more information on ExpKeys and metadata, see the following documentaion:   \n",
    "https://github.com/vandermeerlab/vandermeerlab/blob/master/doc/HOWTO_ExpKeys_Metadata.md"
   ]
  },
  {
   "cell_type": "markdown",
   "metadata": {},
   "source": [
    "### 2. Organizing experimental conditions"
   ]
  },
  {
   "cell_type": "markdown",
   "metadata": {},
   "source": [
    "Many times it will be necessary to parse different conditions in an experiment. Some examples might include different treatments, task phases or maze configurations. Regardless of the specifics, being able to run the same analysis code over different conditions s genearlly useful. Here we use the Tmaze data's \"left vs right\" paradigm to illustrate the point. \n",
    "\n",
    "See lab wiki for details of the task: http://ctnsrv.uwaterloo.ca/vandermeerlab/doku.php?id=analysis:task:motivationalt\n"
   ]
  },
  {
   "cell_type": "markdown",
   "metadata": {},
   "source": [
    "Simply store all the relevant data in a single struct as follows:"
   ]
  },
  {
   "cell_type": "code",
   "execution_count": 5,
   "metadata": {
    "ExecuteTime": {
     "end_time": "2017-03-03T10:26:53.933656",
     "start_time": "2017-03-03T10:26:53.917018"
    },
    "collapsed": false
   },
   "outputs": [],
   "source": [
    "clear expCond\n",
    "\n",
    "expCond(1).label = 'left'; \n",
    "expCond(2).label = 'right'; \n",
    "\n",
    "expCond(1).t = metadata.taskvars.trial_iv_L; expCond(1).t.type = 'iv';\n",
    "expCond(2).t = metadata.taskvars.trial_iv_R; expCond(2).t.type = 'iv';\n",
    "\n",
    "expCond(1).coord = metadata.coord.coordL;\n",
    "expCond(2).coord = metadata.coord.coordR; \n",
    "\n",
    "expCond(1).S = S;\n",
    "expCond(2).S = S;"
   ]
  },
  {
   "cell_type": "markdown",
   "metadata": {},
   "source": [
    "This is a handy way of being able to iterate through different inputs to the following functions..."
   ]
  },
  {
   "cell_type": "markdown",
   "metadata": {},
   "source": [
    "### 3. Spike train analyses: 1D place fields"
   ]
  },
  {
   "cell_type": "markdown",
   "metadata": {},
   "source": [
    "Below is a quick run through of the position linearization process (see reference above):"
   ]
  },
  {
   "cell_type": "code",
   "execution_count": 6,
   "metadata": {
    "ExecuteTime": {
     "end_time": "2017-03-03T10:27:01.037958",
     "start_time": "2017-03-03T10:26:53.935632"
    },
    "collapsed": false
   },
   "outputs": [
    {
     "name": "stdout",
     "output_type": "stream",
     "text": [
      "StandardizeCoord: standardizing coord...\n",
      "LinearizePos: linearizing data...\n",
      "StandardizeCoord: standardizing coord...\n",
      "LinearizePos: linearizing data...\n",
      "TSDtoIV: 1033 intervals found.\n"
     ]
    }
   ],
   "source": [
    "%% linearize paths (snap x,y position samples to nearest point on experimenter-drawn idealized track)\n",
    "nCond = length(expCond);\n",
    "for iCond = 1:nCond\n",
    "    expCond(iCond).stdcoord = StandardizeCoord([],expCond(iCond).coord,334);\n",
    "\n",
    "    cfg_linpos = []; \n",
    "    expCond(iCond).linpos = LinearizePos(cfg_linpos,pos,expCond(iCond).stdcoord);  \n",
    "end\n",
    "\n",
    "%% find intervals where rat is running\n",
    "cfg = [];\n",
    "cfg.verbose = 0;\n",
    "spd = getLinSpd(cfg,pos); % get speed (in \"camera pixels per second\")\n",
    "\n",
    "cfg_spd = []; cfg_spd.method = 'raw'; cfg_spd.threshold = 10; \n",
    "run_iv = TSDtoIV(cfg_spd,spd); % intervals with speed above 10 pix/s\n",
    "\n",
    "%% restrict (linearized) position data and spike data to desired intervals\n",
    "for iCond = 1:nCond\n",
    "    fh = @(x) restrict(x,run_iv); % restrict S and linpos to run times only\n",
    "    expCond(iCond) = structfunS(fh,expCond(iCond),{'S','linpos'});\n",
    "    \n",
    "    fh = @(x) restrict(x,expCond(iCond).t); % restrict S and linpos to specific trials (left/right)\n",
    "    expCond(iCond) = structfunS(fh,expCond(iCond),{'S','linpos'});\n",
    "end"
   ]
  },
  {
   "cell_type": "markdown",
   "metadata": {},
   "source": [
    "Now that we have our spikes and linearized positions, we can calculate tuning curves and detect place cells. For a detailed tutorial see: http://ctnsrv.uwaterloo.ca/vandermeerlab/doku.php?id=analysis:nsb2015:week12"
   ]
  },
  {
   "cell_type": "code",
   "execution_count": 7,
   "metadata": {
    "ExecuteTime": {
     "end_time": "2017-03-03T10:27:01.338840",
     "start_time": "2017-03-03T10:27:01.039657"
    },
    "collapsed": false
   },
   "outputs": [],
   "source": [
    "%% get tuning curves, see lab wiki at:\n",
    "for iCond = 1:nCond\n",
    "    cfg_tc = [];\n",
    "    expCond(iCond).tc = TuningCurves(cfg_tc,expCond(iCond).S,expCond(iCond).linpos);\n",
    "end\n",
    "\n",
    "%% detect place fields\n",
    "for iCond = 1:nCond\n",
    "    \n",
    "    expCond(iCond).fields = DetectPlaceCells1D([],expCond(iCond).tc.tc);\n",
    "    \n",
    "end    "
   ]
  },
  {
   "cell_type": "markdown",
   "metadata": {},
   "source": [
    "### 4. Visualization"
   ]
  },
  {
   "cell_type": "markdown",
   "metadata": {},
   "source": [
    "Now that we have our tuning curves, let's take a closer look:"
   ]
  },
  {
   "cell_type": "code",
   "execution_count": 8,
   "metadata": {
    "ExecuteTime": {
     "end_time": "2017-03-03T10:27:07.311947",
     "start_time": "2017-03-03T10:27:01.340749"
    },
    "collapsed": false
   },
   "outputs": [
    {
     "name": "stdout",
     "output_type": "stream",
     "text": [
      "\n",
      "TC = \n",
      "\n",
      "          tc: [91x100 double]\n",
      "    occ_hist: [1x100 double]\n",
      "    spk_hist: [1x100 double]\n",
      "         cfg: [1x1 struct]\n",
      "         usr: [1x1 struct]\n",
      "\n"
     ]
    },
    {
     "data": {
      "image/png": "[encoded data removed]",
      "text/plain": [
       "<IPython.core.display.Image object>"
      ]
     },
     "metadata": {},
     "output_type": "display_data"
    }
   ],
   "source": [
    "%plot -s 600,400\n",
    "TC = expCond(1).tc\n",
    "imagesc(TC.tc)\n",
    "xlabel('Tuning variable (bins)'); ylabel('Cell #');\n",
    "h = colorbar; ylabel(h,'Firing Rate (Hz)','Rotation',270);"
   ]
  },
  {
   "cell_type": "markdown",
   "metadata": {},
   "source": [
    "The main data of the tuning curve data type (and passed on to the place fields) is contained in the `.tc` field. This contains the firing rates of cells across the tuning variables. We use the function `imagesc` to draw a heat plot of the firing rates. As you can see plotting all the cells might not be particularly informative (though a good sanity check!). Let's use our detected place fields to order the cells according to the location of the peak firing rates: "
   ]
  },
  {
   "cell_type": "code",
   "execution_count": 1,
   "metadata": {
    "ExecuteTime": {
     "end_time": "2017-03-03T10:52:24.169098",
     "start_time": "2017-03-03T10:52:24.117311"
    },
    "collapsed": false,
    "scrolled": false
   },
   "outputs": [
    {
     "name": "stderr",
     "output_type": "stream",
     "text": [
      "\u001b[0;31mUndefined variable \"expCond\" or class \"expCond\".\n",
      "\n",
      "\u001b[0m"
     ]
    }
   ],
   "source": [
    "%plot -s 600,400\n",
    "PF = expCond(1).fields\n",
    "place_fields = TC.tc(PF.template_idx,:);\n",
    "imagesc(place_fields)\n",
    "set(gca,'YTick',1:length(PF.template_idx),'YTickLabels',PF.template_idx)\n",
    "xlabel('Tuning variable (bins)'); ylabel('Cell #');\n",
    "h = colorbar; ylabel(h,'Firing Rate (Hz)','Rotation',270);"
   ]
  },
  {
   "cell_type": "markdown",
   "metadata": {
    "collapsed": true
   },
   "source": [
    "That looks bet"
   ]
  },
  {
   "cell_type": "markdown",
   "metadata": {},
   "source": [
    "see http://ctnsrv.uwaterloo.ca/vandermeerlab/doku.php?id=analysis:nsb2015:week3short\n",
    "\n",
    "Below is an example of the spiking data during a  single behavioral trial. On the Y-axis, we've ordered the cells according to the location of their place field (also color coded)."
   ]
  },
  {
   "cell_type": "code",
   "execution_count": 10,
   "metadata": {
    "ExecuteTime": {
     "end_time": "2017-03-03T10:27:09.515102",
     "start_time": "2017-03-03T10:27:08.044274"
    },
    "collapsed": false
   },
   "outputs": [
    {
     "name": "stdout",
     "output_type": "stream",
     "text": [
      "SelectTS: 91 ts in, 19 ts out\n"
     ]
    },
    {
     "data": {
      "image/png": "[encoded data removed]",
      "text/plain": [
       "<IPython.core.display.Image object>"
      ]
     },
     "metadata": {},
     "output_type": "display_data"
    }
   ],
   "source": [
    "%plot -s 1200,600\n",
    "S_restr = restrict(S,expCond(1).t.tstart(1),expCond(1).t.tend(1));\n",
    "csc_restr = restrict(csc,expCond(1).t.tstart(1),expCond(1).t.tend(1));\n",
    "S_temp = SelectTS([],S_restr,expCond(1).fields.template_idx);    \n",
    "\n",
    "cfg_mr = []; \n",
    "cfg_mr.lfp = csc_restr; %include lfp in plot\n",
    "cfg_mr.spkColor = linspecer(length(S_temp.t)); %make raster colorful\n",
    "cfg_mr.spkWidth = 5; %make lines more visible\n",
    "cfg_mr.lfpColor = [.8 .8 .8];\n",
    "MultiRaster(cfg_mr,S_temp); "
   ]
  }
 ],
 "metadata": {
  "kernelspec": {
   "display_name": "Matlab",
   "language": "matlab",
   "name": "matlab"
  },
  "language_info": {
   "codemirror_mode": "octave",
   "file_extension": ".m",
   "help_links": [
    {
     "text": "MetaKernel Magics",
     "url": "https://github.com/calysto/metakernel/blob/master/metakernel/magics/README.md"
    }
   ],
   "mimetype": "text/x-matlab",
   "name": "matlab",
   "version": "0.13.0"
  },
  "toc": {
   "colors": {
    "hover_highlight": "#DAA520",
    "running_highlight": "#FF0000",
    "selected_highlight": "#FFD700"
   },
   "moveMenuLeft": true,
   "nav_menu": {
    "height": "156px",
    "width": "252px"
   },
   "navigate_menu": true,
   "number_sections": false,
   "sideBar": true,
   "threshold": 4,
   "toc_cell": false,
   "toc_section_display": "block",
   "toc_window_display": true
  }
 },
 "nbformat": 4,
 "nbformat_minor": 2
}
